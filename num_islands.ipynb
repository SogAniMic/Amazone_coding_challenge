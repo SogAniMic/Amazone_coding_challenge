{
 "cells": [
  {
   "cell_type": "markdown",
   "id": "121d0c56",
   "metadata": {},
   "source": [
    "# Given a matrix of 1s and 0s, return the number of \"islands\" in the matrix. A 1 represents land and 0 represents water, so an island is a group of 1s that are neighboring whose perimeter is surrounded by water.\n",
    "\n",
    "For example, this matrix has 4 islands.\n",
    "\n",
    "1 0 0 0 0\n",
    "0 0 1 1 0\n",
    "0 1 1 0 0\n",
    "0 0 0 0 0\n",
    "1 1 0 0 1\n",
    "1 1 0 0 1"
   ]
  },
  {
   "cell_type": "code",
   "execution_count": null,
   "id": "8e3c5c06",
   "metadata": {},
   "outputs": [],
   "source": [
    "def num_islands(board):\n",
    "    num_rows = len(board)\n",
    "    num_cols = len(board[0])\n",
    "    count = 0\n",
    "\n",
    "    visitied = [[False for _ in range(num_cols)] for _ in range(num_rows)]\n",
    "    for row in range(len(board)):\n",
    "        for col in range(len(board[row])):\n",
    "            if board[row][col] == 1 and not visitied[row][col]:\n",
    "                fill(board, visitied, row, col)\n",
    "                count += 1\n",
    "    return count\n",
    "\n",
    "def fill(board, visitied, row, col):\n",
    "    moves = [(0, 1),\n",
    "             (0, -1),\n",
    "             (1, 0),\n",
    "             (-1, 0)]\n",
    "    visitied[row][col] = True\n",
    "\n",
    "    for move_row, move_col in moves:\n",
    "        new_row, new_col = (row + move_row, col + move_col)\n",
    "        if (inside_board(board, new_row, new_col) and\n",
    "            board[new_row][new_col] == 1 and\n",
    "            not visitied[new_row][new_col]):\n",
    "\n",
    "            fill(board, visitied, new_row, new_col)\n",
    "\n",
    "def inside_board(board, row, col):\n",
    "    return 0 <= row < len(board) and 0 <= col < len(board[0])"
   ]
  }
 ],
 "metadata": {
  "kernelspec": {
   "display_name": "Python 3 (ipykernel)",
   "language": "python",
   "name": "python3"
  },
  "language_info": {
   "codemirror_mode": {
    "name": "ipython",
    "version": 3
   },
   "file_extension": ".py",
   "mimetype": "text/x-python",
   "name": "python",
   "nbconvert_exporter": "python",
   "pygments_lexer": "ipython3",
   "version": "3.9.13"
  }
 },
 "nbformat": 4,
 "nbformat_minor": 5
}
